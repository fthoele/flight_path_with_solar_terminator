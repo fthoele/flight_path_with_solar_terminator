{
 "cells": [
  {
   "cell_type": "code",
   "execution_count": 1,
   "metadata": {
    "collapsed": true
   },
   "outputs": [],
   "source": [
    "import imageio\n",
    "import glob"
   ]
  },
  {
   "cell_type": "code",
   "execution_count": 2,
   "metadata": {},
   "outputs": [],
   "source": [
    "filenames = glob.glob(\"../images/diagram0*.png\")\n",
    "images = [imageio.imread(filename) for filename in sorted(filenames)[:-1]]\n",
    "imageio.mimsave('../movie.gif', images, duration=0.04)"
   ]
  },
  {
   "cell_type": "code",
   "execution_count": 3,
   "metadata": {},
   "outputs": [
    {
     "name": "stdout",
     "output_type": "stream",
     "text": [
      "GIF-PIL - Static and animated gif (Pillow)\n",
      "\n",
      "    A format for reading and writing static and animated GIF, based\n",
      "    on Pillow.\n",
      "    \n",
      "    Images read with this format are always RGBA. Currently,\n",
      "    the alpha channel is ignored when saving RGB images with this\n",
      "    format.\n",
      "    \n",
      "    Parameters for reading\n",
      "    ----------------------\n",
      "    None\n",
      "    \n",
      "    Parameters for saving\n",
      "    ---------------------\n",
      "    loop : int\n",
      "        The number of iterations. Default 0 (meaning loop indefinitely).\n",
      "    duration : {float, list}\n",
      "        The duration (in seconds) of each frame. Either specify one value\n",
      "        that is used for all frames, or one value for each frame.\n",
      "        Note that in the GIF format the duration/delay is expressed in\n",
      "        hundredths of a second, which limits the precision of the duration.\n",
      "    fps : float\n",
      "        The number of frames per second. If duration is not given, the\n",
      "        duration for each frame is set to 1/fps. Default 10.\n",
      "    palettesize : int\n",
      "        The number of colors to quantize the image to. Is rounded to\n",
      "        the nearest power of two. Default 256.\n",
      "    subrectangles : bool\n",
      "        If True, will try and optimize the GIF by storing only the\n",
      "        rectangular parts of each frame that change with respect to the\n",
      "        previous. Default False.\n",
      "\n"
     ]
    }
   ],
   "source": [
    "imageio.help(\"gif\")"
   ]
  },
  {
   "cell_type": "code",
   "execution_count": null,
   "metadata": {
    "collapsed": true
   },
   "outputs": [],
   "source": []
  }
 ],
 "metadata": {
  "kernelspec": {
   "display_name": "Python [conda env:ml]",
   "language": "python",
   "name": "conda-env-ml-py"
  },
  "language_info": {
   "codemirror_mode": {
    "name": "ipython",
    "version": 3
   },
   "file_extension": ".py",
   "mimetype": "text/x-python",
   "name": "python",
   "nbconvert_exporter": "python",
   "pygments_lexer": "ipython3",
   "version": "3.6.2"
  }
 },
 "nbformat": 4,
 "nbformat_minor": 2
}
